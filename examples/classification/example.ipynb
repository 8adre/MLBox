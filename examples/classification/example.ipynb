{
 "cells": [
  {
   "cell_type": "markdown",
   "metadata": {},
   "source": [
    "# importing the MLBox"
   ]
  },
  {
   "cell_type": "code",
   "execution_count": 11,
   "metadata": {
    "collapsed": false,
    "scrolled": true
   },
   "outputs": [],
   "source": [
    "from mlbox.preprocessing import *\n",
    "from mlbox.optimisation import *\n",
    "from mlbox.prediction import *"
   ]
  },
  {
   "cell_type": "code",
   "execution_count": 12,
   "metadata": {
    "collapsed": true
   },
   "outputs": [],
   "source": [
    "paths = [\"train.csv\",\"test.csv\"]\n",
    "target_name = \"Survived\""
   ]
  },
  {
   "cell_type": "markdown",
   "metadata": {},
   "source": [
    "# reading and cleaning all files "
   ]
  },
  {
   "cell_type": "code",
   "execution_count": 13,
   "metadata": {
    "collapsed": false,
    "scrolled": true
   },
   "outputs": [
    {
     "name": "stdout",
     "output_type": "stream",
     "text": [
      "\n",
      "STEP 1 - reading and building the databases ...\n",
      "\n",
      "\n",
      "reading csv : train.csv ... - 0.05 s\n",
      "splitting your current file into train and test sets ... - 0.01 s\n",
      "reading csv : test.csv ... - 0.04 s\n",
      "splitting your current file into train and test sets ... - 0.01 s\n",
      "crunching your current file with the previous one ... - 0.04 s\n",
      "\n",
      "CPU time for STEP 1: 0.16 seconds\n",
      "\n",
      "\n",
      "STEP 2 - casting the databases ...\n",
      "\n",
      "\n",
      "training set : casting data ... - 1.41 s\n",
      "test set : casting data ... - 1.53 s\n",
      "\n",
      "CPU time for STEP 2: 2.96 seconds\n",
      "\n",
      "\n",
      "STEP 3 - analysing the training set ...\n",
      "\n",
      "\n",
      "> Number of categorical features: 5\n",
      "> Number of numerical features: 6\n",
      "> Number of training samples : 891\n",
      "> Number of test samples : 418\n",
      "\n",
      "> Task : classification\n",
      "> Target value counts :\n",
      "\n",
      "no     549\n",
      "yes    342\n",
      "Name: Survived, dtype: int64\n",
      "\n",
      "more information available if calling '.get_stats()' ...\n",
      "\n",
      "CPU time for STEP 3: 0.09 seconds\n",
      "\n"
     ]
    }
   ],
   "source": [
    "rd = Reader()\n",
    "df = rd.run(paths, target_name)"
   ]
  },
  {
   "cell_type": "code",
   "execution_count": 14,
   "metadata": {
    "collapsed": false,
    "scrolled": false
   },
   "outputs": [
    {
     "name": "stdout",
     "output_type": "stream",
     "text": [
      "\n",
      "STEP 4 - cleaning the databases ...\n",
      "\n",
      "\n",
      "dropping duplicates on the training set ... - 0.03 s\n",
      "\n",
      "> Number of training samples dropped : 0 out of 891\n",
      "\n",
      "dropping sparse features and sparse samples ... - 0.01 s\n",
      "\n",
      "> Number of training samples dropped : 0 out of 891\n",
      "> Number of features dropped : 0\n",
      "> Top 10 sparse features (%) : \n",
      "Cabin          0.771044\n",
      "Age            0.198653\n",
      "Embarked       0.002245\n",
      "Ticket         0.000000\n",
      "SibSp          0.000000\n",
      "Sex            0.000000\n",
      "Pclass         0.000000\n",
      "PassengerId    0.000000\n",
      "Parch          0.000000\n",
      "Name           0.000000\n",
      "dtype: float64\n",
      "\n",
      "dropping constant features ... - 0.08 s\n",
      "\n",
      "> Number of features dropped : 0\n",
      "\n",
      "dropping drifting features ... - 1.62 s\n",
      "\n",
      "> Number of features dropped : 3\n",
      "> Top 10 drifting features (%) : \n",
      "\n",
      "PassengerId    0.996484\n",
      "Name           0.991847\n",
      "Ticket         0.708192\n",
      "Cabin          0.185622\n",
      "Embarked       0.078020\n",
      "Fare           0.037094\n",
      "SibSp          0.021944\n",
      "Pclass         0.019441\n",
      "Sex            0.011223\n",
      "Age            0.008135\n",
      "dtype: float64\n",
      "\n",
      "dropping highly-correlated features ... - 0.01 s\n",
      "\n",
      "> Number of features dropped : 0\n",
      "> Top 10 correlated features (%) : \n",
      "\n",
      "Fare    Pclass    0.549500\n",
      "Parch   SibSp     0.414838\n",
      "Age     Pclass    0.369226\n",
      "        SibSp     0.308247\n",
      "Fare    Parch     0.216225\n",
      "Age     Parch     0.189119\n",
      "Fare    SibSp     0.159651\n",
      "Age     Fare      0.096067\n",
      "Pclass  SibSp     0.083081\n",
      "Parch   Pclass    0.018443\n",
      "dtype: float64\n",
      "\n"
     ]
    }
   ],
   "source": [
    "cl = Cleaner()\n",
    "df = cl.run(df)"
   ]
  },
  {
   "cell_type": "markdown",
   "metadata": {},
   "source": [
    "# tuning"
   ]
  },
  {
   "cell_type": "code",
   "execution_count": 9,
   "metadata": {
    "collapsed": false
   },
   "outputs": [
    {
     "name": "stderr",
     "output_type": "stream",
     "text": [
      "/home/datageek/anaconda2/lib/python2.7/site-packages/mlbox/optimisation/optimiser.py:149: UserWarning: Optimiser will save all your fitted models into directory 'save/joblib'. Please clear it regularly.\n",
      "  +str(self.to_path)+\"/joblib'. Please clear it regularly.\")\n"
     ]
    }
   ],
   "source": [
    "opt = Optimiser()"
   ]
  },
  {
   "cell_type": "markdown",
   "metadata": {},
   "source": [
    "manuel"
   ]
  },
  {
   "cell_type": "code",
   "execution_count": 17,
   "metadata": {
    "collapsed": false
   },
   "outputs": [
    {
     "name": "stdout",
     "output_type": "stream",
     "text": [
      "================================================== TESTING HYPER-PARAMETERS ... ==================================================\n",
      "\n",
      "> ENCODING: - missing values: {'numerical_strategy': 0, 'categorical_strategy': 'NULL'}\n",
      "\n",
      "            - categorical features: {'verbose': False, 'strategy': 'random_projection'}\n",
      "\n",
      "\n",
      "> MODELING: - feature selection: {'threshold': 0.2, 'strategy': 'variance'}\n",
      "\n",
      "            - estimation: {'num_leaves': 31, 'reg_alpha': 0, 'subsample_for_bin': 50000, 'colsample_bytree': 0.8, 'silent': True, 'learning_rate': 0.05, 'nthread': -1, 'min_child_weight': 5, 'strategy': 'LightGBM', 'n_estimators': 500, 'subsample': 0.9, 'reg_lambda': 0, 'subsample_freq': 1, 'min_child_samples': 10, 'max_bin': 255, 'objective': 'binary', 'min_split_gain': 0, 'seed': 0, 'max_depth': 5, 'boosting_type': 'gbdt'}\n",
      "\n",
      "\n",
      "MEAN SCORE : roc_auc = 0.727535594128\n",
      "VARIANCE : 0.0127833851384 (fold 1 = 0.740318979266, fold 2 = 0.71475220899)\n",
      "CPU time: 2.30272984505 seconds\n",
      "\n"
     ]
    },
    {
     "data": {
      "text/plain": [
       "0.72753559412798752"
      ]
     },
     "execution_count": 17,
     "metadata": {},
     "output_type": "execute_result"
    }
   ],
   "source": [
    "parameters = {\n",
    "    \n",
    "        \"encoding\" : {\n",
    "        \n",
    "            \"missing_values\" : {\"numerical_strategy\":0, \"categorical_strategy\":\"NULL\"},\n",
    "            \"categorical_features\" : {\"strategy\":\"random_projection\"}\n",
    "        \n",
    "    },\n",
    "    \n",
    "        \"modeling\" : {\n",
    "        \n",
    "            \"feature_selection\" : {\"strategy\" : \"variance\", \"threshold\":0.2},\n",
    "            \"estimation\" : {\"strategy\":\"LightGBM\", \"max_depth\" : 5}\n",
    "        \n",
    "    }\n",
    "    \n",
    "        }\n",
    "\n",
    "opt.evaluate(df, parameters)"
   ]
  },
  {
   "cell_type": "code",
   "execution_count": 18,
   "metadata": {
    "collapsed": false
   },
   "outputs": [
    {
     "name": "stdout",
     "output_type": "stream",
     "text": [
      "================================================== TESTING HYPER-PARAMETERS ... ==================================================\n",
      "\n",
      "> ENCODING: - missing values: {'numerical_strategy': 'mean', 'categorical_strategy': '<NULL>'}\n",
      "\n",
      "            - categorical features: {'verbose': False, 'strategy': 'label_encoding'}\n",
      "\n",
      "\n",
      "> MODELING: - estimation: {'reg_alpha': 0, 'colsample_bytree': 0.8, 'silent': True, 'colsample_bylevel': 1.0, 'scale_pos_weight': 1, 'learning_rate': 0.05, 'missing': None, 'max_delta_step': 0, 'nthread': -1, 'base_score': 0.5, 'strategy': 'XGBoost', 'n_estimators': 500, 'subsample': 0.9, 'reg_lambda': 1, 'seed': 0, 'min_child_weight': 1, 'objective': 'binary:logistic', 'max_depth': 6, 'gamma': 0}\n",
      "\n",
      "\n",
      "MEAN SCORE : roc_auc = 0.863051878757\n",
      "VARIANCE : 0.00907996600659 (fold 1 = 0.872131844763, fold 2 = 0.85397191275)\n",
      "CPU time: 2.24671816826 seconds\n",
      "\n"
     ]
    },
    {
     "data": {
      "text/plain": [
       "0.86305187875683453"
      ]
     },
     "execution_count": 18,
     "metadata": {},
     "output_type": "execute_result"
    }
   ],
   "source": [
    "parameters = {\n",
    "\n",
    "        \"modeling\" : {\n",
    "        \n",
    "            \"estimation\" : {\"strategy\":\"XGBoost\"}\n",
    "        \n",
    "    }\n",
    "    \n",
    "        }\n",
    "\n",
    "opt.evaluate(df, parameters)"
   ]
  },
  {
   "cell_type": "code",
   "execution_count": 19,
   "metadata": {
    "collapsed": false
   },
   "outputs": [
    {
     "name": "stdout",
     "output_type": "stream",
     "text": [
      "================================================== TESTING HYPER-PARAMETERS ... ==================================================\n",
      "\n",
      "> ENCODING: - missing values: {'numerical_strategy': 'mean', 'categorical_strategy': '<NULL>'}\n",
      "\n",
      "            - categorical features: {'verbose': False, 'strategy': 'label_encoding'}\n",
      "\n",
      "\n",
      "> MODELING: - estimation: {'warm_start': False, 'oob_score': False, 'n_jobs': -1, 'min_impurity_decrease': 0.0, 'verbose': 0, 'max_leaf_nodes': None, 'bootstrap': True, 'strategy': 'RandomForest', 'n_estimators': 400, 'max_features': 'sqrt', 'min_weight_fraction_leaf': 0.0, 'criterion': 'gini', 'random_state': 0, 'min_impurity_split': None, 'min_samples_split': 2, 'min_samples_leaf': 1, 'max_depth': 10, 'class_weight': None}\n",
      "\n",
      "\n",
      "MEAN SCORE : roc_auc = 0.87600493991\n",
      "VARIANCE : 0.00858335564636 (fold 1 = 0.867421584264, fold 2 = 0.884588295556)\n",
      "CPU time: 10.0883591175 seconds\n",
      "\n"
     ]
    },
    {
     "data": {
      "text/plain": [
       "0.87600493991004935"
      ]
     },
     "execution_count": 19,
     "metadata": {},
     "output_type": "execute_result"
    }
   ],
   "source": [
    "parameters = {\n",
    "\n",
    "        \"modeling\" : {\n",
    "        \n",
    "            \"estimation\" : {\"strategy\":\"RandomForest\"}\n",
    "        \n",
    "    }\n",
    "    \n",
    "        }\n",
    "\n",
    "opt.evaluate(df, parameters)"
   ]
  },
  {
   "cell_type": "code",
   "execution_count": 20,
   "metadata": {
    "collapsed": false
   },
   "outputs": [
    {
     "name": "stdout",
     "output_type": "stream",
     "text": [
      "================================================== TESTING HYPER-PARAMETERS ... ==================================================\n",
      "\n",
      "> ENCODING: - missing values: {'numerical_strategy': 'mean', 'categorical_strategy': '<NULL>'}\n",
      "\n",
      "            - categorical features: {'verbose': False, 'strategy': 'label_encoding'}\n",
      "\n",
      "\n",
      "> MODELING: - estimation: {'warm_start': False, 'oob_score': False, 'n_jobs': -1, 'min_impurity_decrease': 0.0, 'verbose': 0, 'max_leaf_nodes': None, 'bootstrap': True, 'strategy': 'ExtraTrees', 'n_estimators': 400, 'max_features': 'sqrt', 'min_weight_fraction_leaf': 0.0, 'criterion': 'gini', 'random_state': 0, 'min_impurity_split': None, 'min_samples_split': 2, 'min_samples_leaf': 1, 'max_depth': 10, 'class_weight': None}\n",
      "\n",
      "\n",
      "MEAN SCORE : roc_auc = 0.874552536506\n",
      "VARIANCE : 0.0153074541031 (fold 1 = 0.859245082403, fold 2 = 0.889859990609)\n",
      "CPU time: 9.81152200699 seconds\n",
      "\n"
     ]
    },
    {
     "data": {
      "text/plain": [
       "0.87455253650605169"
      ]
     },
     "execution_count": 20,
     "metadata": {},
     "output_type": "execute_result"
    }
   ],
   "source": [
    "parameters = {\n",
    "\n",
    "        \"modeling\" : {\n",
    "        \n",
    "            \"estimation\" : {\"strategy\":\"ExtraTrees\"}\n",
    "        \n",
    "    }\n",
    "    \n",
    "        }\n",
    "\n",
    "opt.evaluate(df, parameters)"
   ]
  },
  {
   "cell_type": "code",
   "execution_count": 21,
   "metadata": {
    "collapsed": false
   },
   "outputs": [
    {
     "name": "stdout",
     "output_type": "stream",
     "text": [
      "================================================== TESTING HYPER-PARAMETERS ... ==================================================\n",
      "\n",
      "> ENCODING: - missing values: {'numerical_strategy': 'mean', 'categorical_strategy': '<NULL>'}\n",
      "\n",
      "            - categorical features: {'verbose': False, 'strategy': 'label_encoding'}\n",
      "\n",
      "\n",
      "> MODELING: - estimation: {'presort': False, 'splitter': 'best', 'min_impurity_decrease': 0.0, 'max_leaf_nodes': None, 'min_samples_leaf': 1, 'max_features': None, 'min_weight_fraction_leaf': 0.0, 'criterion': 'gini', 'random_state': 0, 'min_impurity_split': None, 'min_samples_split': 2, 'strategy': 'Tree', 'max_depth': None, 'class_weight': None}\n",
      "\n",
      "\n",
      "MEAN SCORE : roc_auc = 0.761438627535\n",
      "VARIANCE : 0.0257490385996 (fold 1 = 0.787187666135, fold 2 = 0.735689588936)\n",
      "CPU time: 0.437391996384 seconds\n",
      "\n"
     ]
    },
    {
     "data": {
      "text/plain": [
       "0.76143862753543889"
      ]
     },
     "execution_count": 21,
     "metadata": {},
     "output_type": "execute_result"
    }
   ],
   "source": [
    "parameters = {\n",
    "\n",
    "        \"modeling\" : {\n",
    "        \n",
    "            \"estimation\" : {\"strategy\":\"Tree\"}\n",
    "        \n",
    "    }\n",
    "    \n",
    "        }\n",
    "\n",
    "opt.evaluate(df, parameters)"
   ]
  },
  {
   "cell_type": "code",
   "execution_count": 22,
   "metadata": {
    "collapsed": false
   },
   "outputs": [
    {
     "name": "stdout",
     "output_type": "stream",
     "text": [
      "================================================== TESTING HYPER-PARAMETERS ... ==================================================\n",
      "\n",
      "> ENCODING: - missing values: {'numerical_strategy': 'mean', 'categorical_strategy': '<NULL>'}\n",
      "\n",
      "            - categorical features: {'verbose': False, 'strategy': 'label_encoding'}\n",
      "\n",
      "\n",
      "> MODELING: - estimation: {'warm_start': False, 'max_samples': 0.9, 'base_estimator': None, 'n_jobs': -1, 'verbose': 0, 'bootstrap': False, 'oob_score': False, 'strategy': 'Bagging', 'n_estimators': 500, 'random_state': 0, 'max_features': 0.85, 'bootstrap_features': False}\n",
      "\n",
      "\n",
      "MEAN SCORE : roc_auc = 0.854613713004\n",
      "VARIANCE : 0.00420606371048 (fold 1 = 0.858819776715, fold 2 = 0.850407649294)\n",
      "CPU time: 7.22818994522 seconds\n",
      "\n"
     ]
    },
    {
     "data": {
      "text/plain": [
       "0.85461371300403188"
      ]
     },
     "execution_count": 22,
     "metadata": {},
     "output_type": "execute_result"
    }
   ],
   "source": [
    "parameters = {\n",
    "\n",
    "        \"modeling\" : {\n",
    "        \n",
    "            \"estimation\" : {\"strategy\":\"Bagging\"}\n",
    "        \n",
    "    }\n",
    "    \n",
    "        }\n",
    "\n",
    "opt.evaluate(df, parameters)"
   ]
  },
  {
   "cell_type": "code",
   "execution_count": 23,
   "metadata": {
    "collapsed": false
   },
   "outputs": [
    {
     "name": "stdout",
     "output_type": "stream",
     "text": [
      "================================================== TESTING HYPER-PARAMETERS ... ==================================================\n",
      "\n",
      "> ENCODING: - missing values: {'numerical_strategy': 'mean', 'categorical_strategy': '<NULL>'}\n",
      "\n",
      "            - categorical features: {'verbose': False, 'strategy': 'label_encoding'}\n",
      "\n",
      "\n",
      "> MODELING: - estimation: {'base_estimator': None, 'algorithm': 'SAMME.R', 'learning_rate': 0.05, 'strategy': 'AdaBoost', 'n_estimators': 400, 'random_state': 0}\n",
      "\n",
      "\n",
      "MEAN SCORE : roc_auc = 0.83638218528\n",
      "VARIANCE : 0.0133147844174 (fold 1 = 0.849696969697, fold 2 = 0.823067400862)\n",
      "CPU time: 6.71220302582 seconds\n",
      "\n"
     ]
    },
    {
     "data": {
      "text/plain": [
       "0.83638218527961139"
      ]
     },
     "execution_count": 23,
     "metadata": {},
     "output_type": "execute_result"
    }
   ],
   "source": [
    "parameters = {\n",
    "\n",
    "        \"modeling\" : {\n",
    "        \n",
    "            \"estimation\" : {\"strategy\":\"AdaBoost\"}\n",
    "        \n",
    "    }\n",
    "    \n",
    "        }\n",
    "\n",
    "opt.evaluate(df, parameters)"
   ]
  },
  {
   "cell_type": "code",
   "execution_count": null,
   "metadata": {
    "collapsed": false
   },
   "outputs": [
    {
     "name": "stdout",
     "output_type": "stream",
     "text": [
      "================================================== TESTING HYPER-PARAMETERS ... ==================================================\n",
      "\n",
      "> ENCODING: - missing values: {'numerical_strategy': 'mean', 'categorical_strategy': '<NULL>'}\n",
      "\n",
      "            - categorical features: {'verbose': False, 'strategy': 'label_encoding'}\n",
      "\n",
      "\n",
      "> MODELING: - estimation: {'warm_start': False, 'C': 1.0, 'n_jobs': -1, 'intercept_scaling': 1, 'fit_intercept': True, 'max_iter': 100, 'class_weight': None, 'strategy': 'Linear', 'penalty': 'l2', 'multi_class': 'ovr', 'random_state': 0, 'dual': False, 'tol': 0.0001, 'solver': 'liblinear', 'verbose': 0}\n",
      "\n"
     ]
    }
   ],
   "source": [
    "parameters = {\n",
    "\n",
    "        \"modeling\" : {\n",
    "        \n",
    "            \"estimation\" : {\"strategy\":\"Linear\"}\n",
    "        \n",
    "    }\n",
    "    \n",
    "        }\n",
    "\n",
    "opt.evaluate(df, parameters)"
   ]
  },
  {
   "cell_type": "markdown",
   "metadata": {},
   "source": [
    "semi auto"
   ]
  },
  {
   "cell_type": "code",
   "execution_count": 30,
   "metadata": {
    "collapsed": false,
    "scrolled": true
   },
   "outputs": [
    {
     "name": "stdout",
     "output_type": "stream",
     "text": [
      "\n",
      "STEP 5 - tuning/evaluating the pipeline ...\n",
      "\n",
      "\n",
      "================================================== TESTING HYPER-PARAMETERS ... ==================================================\n",
      "\n",
      "> ENCODING: - missing values: {'numerical_strategy': 0, 'categorical_strategy': 'NULL'}\n",
      "\n",
      "            - categorical features: {'verbose': False, 'strategy': 'random_projection'}\n",
      "\n",
      "\n",
      "> MODELING: - feature selection: {'threshold': 0.5119306246060741, 'strategy': 'variance'}\n",
      "\n",
      "            - estimation: {'warm_start': False, 'oob_score': False, 'n_jobs': -1, 'min_impurity_decrease': 0.0, 'verbose': 0, 'max_leaf_nodes': None, 'bootstrap': True, 'strategy': 'RandomForest', 'n_estimators': 400, 'max_features': 'sqrt', 'min_weight_fraction_leaf': 0.0, 'criterion': 'gini', 'random_state': 0, 'min_impurity_split': None, 'min_samples_split': 2, 'min_samples_leaf': 1, 'max_depth': 10, 'class_weight': None}\n",
      "\n",
      "\n",
      "MEAN SCORE : roc_auc = 0.698499963135\n",
      "VARIANCE : 0.0176722856688 (fold 1 = 0.716172248804, fold 2 = 0.680827677466)\n",
      "CPU time: 12.1571631432 seconds\n",
      "\n",
      "================================================== TESTING HYPER-PARAMETERS ... ==================================================\n",
      "\n",
      "> ENCODING: - missing values: {'numerical_strategy': 0, 'categorical_strategy': 'NULL'}\n",
      "\n",
      "            - categorical features: {'verbose': False, 'strategy': 'random_projection'}\n",
      "\n",
      "\n",
      "> MODELING: - feature selection: {'threshold': 0.5892237443110624, 'strategy': 'variance'}\n",
      "\n",
      "            - estimation: {'num_leaves': 31, 'reg_alpha': 0, 'subsample_for_bin': 50000, 'colsample_bytree': 0.8, 'silent': True, 'learning_rate': 0.05, 'nthread': -1, 'min_child_weight': 5, 'strategy': 'LightGBM', 'n_estimators': 500, 'subsample': 0.9, 'reg_lambda': 0, 'subsample_freq': 1, 'min_child_samples': 10, 'max_bin': 255, 'objective': 'binary', 'min_split_gain': 0, 'seed': 0, 'max_depth': 10, 'boosting_type': 'gbdt'}\n",
      "\n",
      "\n",
      "MEAN SCORE : roc_auc = 0.68269308529\n",
      "VARIANCE : 0.00851371960093 (fold 1 = 0.691206804891, fold 2 = 0.674179365689)\n",
      "CPU time: 0.695874929428 seconds\n",
      "\n",
      "================================================== TESTING HYPER-PARAMETERS ... ==================================================\n",
      "\n",
      "> ENCODING: - missing values: {'numerical_strategy': 0, 'categorical_strategy': 'NULL'}\n",
      "\n",
      "            - categorical features: {'verbose': False, 'strategy': 'random_projection'}\n",
      "\n",
      "\n",
      "> MODELING: - feature selection: {'threshold': 0.5649017486147189, 'strategy': 'variance'}\n",
      "\n",
      "            - estimation: {'num_leaves': 31, 'reg_alpha': 0, 'subsample_for_bin': 50000, 'colsample_bytree': 0.8, 'silent': True, 'learning_rate': 0.05, 'nthread': -1, 'min_child_weight': 5, 'strategy': 'LightGBM', 'n_estimators': 500, 'subsample': 0.9, 'reg_lambda': 0, 'subsample_freq': 1, 'min_child_samples': 10, 'max_bin': 255, 'objective': 'binary', 'min_split_gain': 0, 'seed': 0, 'max_depth': 8, 'boosting_type': 'gbdt'}\n",
      "\n",
      "\n",
      "MEAN SCORE : roc_auc = 0.682135511861\n",
      "VARIANCE : 0.00760398840499 (fold 1 = 0.689739500266, fold 2 = 0.674531523456)\n",
      "CPU time: 0.865410804749 seconds\n",
      "\n",
      "================================================== TESTING HYPER-PARAMETERS ... ==================================================\n",
      "\n",
      "> ENCODING: - missing values: {'numerical_strategy': 0, 'categorical_strategy': 'NULL'}\n",
      "\n",
      "            - categorical features: {'verbose': False, 'strategy': 'random_projection'}\n",
      "\n",
      "\n",
      "> MODELING: - feature selection: {'threshold': 0.37570142082604824, 'strategy': 'variance'}\n",
      "\n",
      "            - estimation: {'reg_alpha': 0, 'colsample_bytree': 0.8, 'silent': True, 'colsample_bylevel': 1.0, 'scale_pos_weight': 1, 'learning_rate': 0.05, 'missing': None, 'max_delta_step': 0, 'nthread': -1, 'base_score': 0.5, 'strategy': 'XGBoost', 'n_estimators': 500, 'subsample': 0.9, 'reg_lambda': 1, 'seed': 0, 'min_child_weight': 1, 'objective': 'binary:logistic', 'max_depth': 9, 'gamma': 0}\n",
      "\n",
      "\n",
      "MEAN SCORE : roc_auc = 0.689034660861\n",
      "VARIANCE : 0.0299127075597 (fold 1 = 0.718947368421, fold 2 = 0.659121953302)\n",
      "CPU time: 0.853528022766 seconds\n",
      "\n",
      "================================================== TESTING HYPER-PARAMETERS ... ==================================================\n",
      "\n",
      "> ENCODING: - missing values: {'numerical_strategy': 0, 'categorical_strategy': 'NULL'}\n",
      "\n",
      "            - categorical features: {'verbose': False, 'strategy': 'random_projection'}\n",
      "\n",
      "\n",
      "> MODELING: - feature selection: {'threshold': 0.3966582548559616, 'strategy': 'variance'}\n",
      "\n",
      "            - estimation: {'num_leaves': 31, 'reg_alpha': 0, 'subsample_for_bin': 50000, 'colsample_bytree': 0.8, 'silent': True, 'learning_rate': 0.05, 'nthread': -1, 'min_child_weight': 5, 'strategy': 'LightGBM', 'n_estimators': 500, 'subsample': 0.9, 'reg_lambda': 0, 'subsample_freq': 1, 'min_child_samples': 10, 'max_bin': 255, 'objective': 'binary', 'min_split_gain': 0, 'seed': 0, 'max_depth': 9, 'boosting_type': 'gbdt'}\n",
      "\n",
      "\n",
      "MEAN SCORE : roc_auc = 0.687010364886\n",
      "VARIANCE : 0.024292133785 (fold 1 = 0.711302498671, fold 2 = 0.662718231101)\n",
      "CPU time: 0.460021018982 seconds\n",
      "\n",
      "================================================== TESTING HYPER-PARAMETERS ... ==================================================\n",
      "\n",
      "> ENCODING: - missing values: {'numerical_strategy': 0, 'categorical_strategy': 'NULL'}\n",
      "\n",
      "            - categorical features: {'verbose': False, 'strategy': 'random_projection'}\n",
      "\n",
      "\n",
      "> MODELING: - feature selection: {'threshold': 0.3066877112122968, 'strategy': 'variance'}\n",
      "\n",
      "            - estimation: {'warm_start': False, 'oob_score': False, 'n_jobs': -1, 'min_impurity_decrease': 0.0, 'verbose': 0, 'max_leaf_nodes': None, 'bootstrap': True, 'strategy': 'RandomForest', 'n_estimators': 400, 'max_features': 'sqrt', 'min_weight_fraction_leaf': 0.0, 'criterion': 'gini', 'random_state': 0, 'min_impurity_split': None, 'min_samples_split': 2, 'min_samples_leaf': 1, 'max_depth': 8, 'class_weight': None}\n",
      "\n",
      "\n",
      "MEAN SCORE : roc_auc = 0.724403107137\n",
      "VARIANCE : 0.0029865791996 (fold 1 = 0.727389686337, fold 2 = 0.721416527938)\n",
      "CPU time: 8.82348895073 seconds\n",
      "\n",
      "================================================== TESTING HYPER-PARAMETERS ... ==================================================\n",
      "\n",
      "> ENCODING: - missing values: {'numerical_strategy': 0, 'categorical_strategy': 'NULL'}\n",
      "\n",
      "            - categorical features: {'verbose': False, 'strategy': 'random_projection'}\n",
      "\n",
      "\n",
      "> MODELING: - feature selection: {'threshold': 0.4797275141003013, 'strategy': 'variance'}\n",
      "\n",
      "            - estimation: {'num_leaves': 31, 'reg_alpha': 0, 'subsample_for_bin': 50000, 'colsample_bytree': 0.8, 'silent': True, 'learning_rate': 0.05, 'nthread': -1, 'min_child_weight': 5, 'strategy': 'LightGBM', 'n_estimators': 500, 'subsample': 0.9, 'reg_lambda': 0, 'subsample_freq': 1, 'min_child_samples': 10, 'max_bin': 255, 'objective': 'binary', 'min_split_gain': 0, 'seed': 0, 'max_depth': 8, 'boosting_type': 'gbdt'}\n",
      "\n",
      "\n",
      "MEAN SCORE : roc_auc = 0.675404137417\n",
      "VARIANCE : 0.0130700784254 (fold 1 = 0.688474215843, fold 2 = 0.662334058992)\n",
      "CPU time: 1.21061205864 seconds\n",
      "\n",
      "================================================== TESTING HYPER-PARAMETERS ... ==================================================\n",
      "\n",
      "> ENCODING: - missing values: {'numerical_strategy': 0, 'categorical_strategy': 'NULL'}\n",
      "\n",
      "            - categorical features: {'verbose': False, 'strategy': 'random_projection'}\n",
      "\n",
      "\n",
      "> MODELING: - feature selection: {'threshold': 0.5488754143639493, 'strategy': 'variance'}\n",
      "\n",
      "            - estimation: {'warm_start': False, 'oob_score': False, 'n_jobs': -1, 'min_impurity_decrease': 0.0, 'verbose': 0, 'max_leaf_nodes': None, 'bootstrap': True, 'strategy': 'RandomForest', 'n_estimators': 400, 'max_features': 'sqrt', 'min_weight_fraction_leaf': 0.0, 'criterion': 'gini', 'random_state': 0, 'min_impurity_split': None, 'min_samples_split': 2, 'min_samples_leaf': 1, 'max_depth': 8, 'class_weight': None}\n",
      "\n",
      "\n",
      "MEAN SCORE : roc_auc = 0.702627737226\n",
      "VARIANCE : 0.011758227686 (fold 1 = 0.714385964912, fold 2 = 0.69086950954)\n",
      "CPU time: 16.2074508667 seconds\n",
      "\n",
      "================================================== TESTING HYPER-PARAMETERS ... ==================================================\n",
      "\n",
      "> ENCODING: - missing values: {'numerical_strategy': 0, 'categorical_strategy': 'NULL'}\n",
      "\n",
      "            - categorical features: {'verbose': False, 'strategy': 'random_projection'}\n",
      "\n",
      "\n",
      "> MODELING: - feature selection: {'threshold': 0.6314575020798183, 'strategy': 'variance'}\n",
      "\n",
      "            - estimation: {'reg_alpha': 0, 'colsample_bytree': 0.8, 'silent': True, 'colsample_bylevel': 1.0, 'scale_pos_weight': 1, 'learning_rate': 0.05, 'missing': None, 'max_delta_step': 0, 'nthread': -1, 'base_score': 0.5, 'strategy': 'XGBoost', 'n_estimators': 500, 'subsample': 0.9, 'reg_lambda': 1, 'seed': 0, 'min_child_weight': 1, 'objective': 'binary:logistic', 'max_depth': 10, 'gamma': 0}\n",
      "\n",
      "\n",
      "MEAN SCORE : roc_auc = 0.685284054529\n",
      "VARIANCE : 0.0188201453645 (fold 1 = 0.704104199894, fold 2 = 0.666463909165)\n",
      "CPU time: 1.47026896477 seconds\n",
      "\n",
      "================================================== TESTING HYPER-PARAMETERS ... ==================================================\n",
      "\n",
      "> ENCODING: - missing values: {'numerical_strategy': 0, 'categorical_strategy': 'NULL'}\n",
      "\n",
      "            - categorical features: {'verbose': False, 'strategy': 'random_projection'}\n",
      "\n",
      "\n",
      "> MODELING: - feature selection: {'threshold': 0.5624290433199078, 'strategy': 'variance'}\n",
      "\n",
      "            - estimation: {'reg_alpha': 0, 'colsample_bytree': 0.8, 'silent': True, 'colsample_bylevel': 1.0, 'scale_pos_weight': 1, 'learning_rate': 0.05, 'missing': None, 'max_delta_step': 0, 'nthread': -1, 'base_score': 0.5, 'strategy': 'XGBoost', 'n_estimators': 500, 'subsample': 0.9, 'reg_lambda': 1, 'seed': 0, 'min_child_weight': 1, 'objective': 'binary:logistic', 'max_depth': 7, 'gamma': 0}\n",
      "\n",
      "\n",
      "MEAN SCORE : roc_auc = 0.682036694257\n",
      "VARIANCE : 0.0179952036694 (fold 1 = 0.700031897927, fold 2 = 0.664041490588)\n",
      "CPU time: 0.907209873199 seconds\n",
      "\n",
      "\n",
      "--------------------------------------------------  BEST HYPER-PARAMETERS  --------------------------------------------------\n",
      "\n",
      "{'modeling': {'estimation': {'max_depth': 8, 'strategy': 'RandomForest'}, 'feature_selection': {'threshold': 0.3066877112122968, 'strategy': 'variance'}}, 'encoding': {'categorical_features': {'strategy': 'random_projection'}, 'missing_values': {'numerical_strategy': 0, 'categorical_strategy': 'NULL'}}}\n",
      "\n",
      "CPU time for STEP 5: 44.04 seconds\n",
      "\n"
     ]
    }
   ],
   "source": [
    "parameters = {\n",
    "    \n",
    "        \"encoding\" : {\n",
    "        \n",
    "            \"missing_values\" : {\"numerical_strategy\":{0}, \"categorical_strategy\":{\"NULL\"}},\n",
    "            \"categorical_features\" : {\"strategy\":{\"random_projection\"}}\n",
    "        \n",
    "    },\n",
    "    \n",
    "        \"modeling\" : {\n",
    "        \n",
    "            \"feature_selection\" : {\"strategy\" : {\"variance\"}, \"threshold\":(0.3, 0.7)},\n",
    "            \"estimation\" : {\"strategy\":{\"LightGBM\", \"XGBoost\", \"RandomForest\"}, \"max_depth\" : {7,8,9,10}}\n",
    "        \n",
    "    }\n",
    "    \n",
    "        }\n",
    "\n",
    "\n",
    "best = opt.run(df, space=parameters, max_evals=10)"
   ]
  },
  {
   "cell_type": "code",
   "execution_count": 31,
   "metadata": {
    "collapsed": false,
    "scrolled": true
   },
   "outputs": [
    {
     "name": "stdout",
     "output_type": "stream",
     "text": [
      "\n",
      "STEP 6 - fitting the pipeline on training set ...\n",
      "\n"
     ]
    },
    {
     "data": {
      "image/png": "[encoded data removed]",
      "text/plain": [
       "<matplotlib.figure.Figure at 0x7f3e490b8cd0>"
      ]
     },
     "metadata": {},
     "output_type": "display_data"
    },
    {
     "name": "stdout",
     "output_type": "stream",
     "text": [
      "\n",
      "> Feature importances dumped into directory : save\n",
      "\n",
      "CPU time for STEP 6: 5.95 seconds\n",
      "\n",
      "\n",
      "STEP 7 - predicting on test set ...\n",
      "\n",
      "\n",
      "predicting ... - 0.55 s\n",
      "\n",
      "> Overview on predictions : \n",
      "\n",
      "        0.0       1.0  Survived_predicted\n",
      "0  0.838580  0.161420                 0.0\n",
      "1  0.901509  0.098491                 0.0\n",
      "2  0.794574  0.205426                 0.0\n",
      "3  0.758676  0.241324                 0.0\n",
      "4  0.673051  0.326949                 0.0\n",
      "5  0.800680  0.199320                 0.0\n",
      "6  0.833546  0.166454                 0.0\n",
      "7  0.617996  0.382004                 0.0\n",
      "8  0.650741  0.349259                 0.0\n",
      "9  0.658304  0.341696                 0.0\n",
      "\n",
      "dumping predictions into directory : save ... - 0.0 s\n",
      "\n",
      "CPU time for STEP 7: 0.56 seconds\n",
      "\n"
     ]
    },
    {
     "data": {
      "text/plain": [
       "<mlbox.prediction.predictor.Predictor instance at 0x7f3e48469710>"
      ]
     },
     "execution_count": 31,
     "metadata": {},
     "output_type": "execute_result"
    }
   ],
   "source": [
    "prd = Predictor()\n",
    "prd.run(df, best)"
   ]
  }
 ],
 "metadata": {
  "kernelspec": {
   "display_name": "Python 2",
   "language": "python",
   "name": "python2"
  },
  "language_info": {
   "codemirror_mode": {
    "name": "ipython",
    "version": 2
   },
   "file_extension": ".py",
   "mimetype": "text/x-python",
   "name": "python",
   "nbconvert_exporter": "python",
   "pygments_lexer": "ipython2",
   "version": "2.7.11"
  }
 },
 "nbformat": 4,
 "nbformat_minor": 1
}
