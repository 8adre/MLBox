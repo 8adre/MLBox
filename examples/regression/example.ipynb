{
 "cells": [
  {
   "cell_type": "markdown",
   "metadata": {},
   "source": [
    "# importing the MLBox"
   ]
  },
  {
   "cell_type": "code",
   "execution_count": 1,
   "metadata": {
    "collapsed": false,
    "scrolled": true
   },
   "outputs": [
    {
     "name": "stderr",
     "output_type": "stream",
     "text": [
      "Using Theano backend.\n",
      "/home/datageek/anaconda2/lib/python2.7/site-packages/sklearn/cross_validation.py:41: DeprecationWarning: This module was deprecated in version 0.18 in favor of the model_selection module into which all the refactored classes and functions are moved. Also note that the interface of the new CV iterators are different from that of this module. This module will be removed in 0.20.\n",
      "  \"This module will be removed in 0.20.\", DeprecationWarning)\n"
     ]
    }
   ],
   "source": [
    "from mlbox.preprocessing import *\n",
    "from mlbox.optimisation import *\n",
    "from mlbox.prediction import *"
   ]
  },
  {
   "cell_type": "code",
   "execution_count": 2,
   "metadata": {
    "collapsed": true
   },
   "outputs": [],
   "source": [
    "paths = [\"train.csv\",\"test.csv\"]\n",
    "target_name = \"SalePrice\""
   ]
  },
  {
   "cell_type": "markdown",
   "metadata": {},
   "source": [
    "# reading and cleaning all files "
   ]
  },
  {
   "cell_type": "code",
   "execution_count": 3,
   "metadata": {
    "collapsed": false,
    "scrolled": true
   },
   "outputs": [
    {
     "name": "stdout",
     "output_type": "stream",
     "text": [
      "\n",
      "STEP 1 - reading and building the databases ...\n",
      "\n",
      "\n",
      "reading csv : train.csv ... - 0.56 s\n",
      "splitting your current file into train and test sets ... - 0.02 s\n",
      "reading csv : test.csv ... - 0.5 s\n",
      "splitting your current file into train and test sets ... - 0.02 s\n",
      "crunching your current file with the previous one ... - 0.54 s\n",
      "\n",
      "CPU time for STEP 1: 1.76 seconds\n",
      "\n",
      "\n",
      "STEP 2 - casting the databases ...\n",
      "\n",
      "\n",
      "training set : casting data ... - 2.33 s\n",
      "test set : casting data ... - 2.64 s\n",
      "\n",
      "CPU time for STEP 2: 5.0 seconds\n",
      "\n",
      "\n",
      "STEP 3 - analysing the training set ...\n",
      "\n",
      "\n",
      "> Number of categorical features: 43\n",
      "> Number of numerical features: 37\n",
      "> Number of training samples : 1460\n",
      "> Number of test samples : 1459\n",
      "\n",
      "> Task : regression\n",
      "> Target description :\n",
      "\n",
      "count      1460.000000\n",
      "mean     180921.195890\n",
      "std       79442.502883\n",
      "min       34900.000000\n",
      "25%      129975.000000\n",
      "50%      163000.000000\n",
      "75%      214000.000000\n",
      "max      755000.000000\n",
      "Name: SalePrice, dtype: float64\n",
      "\n",
      "more information available if calling '.get_stats()' ...\n",
      "\n",
      "CPU time for STEP 3: 0.49 seconds\n",
      "\n"
     ]
    }
   ],
   "source": [
    "rd = Reader()\n",
    "df = rd.run(paths, target_name)"
   ]
  },
  {
   "cell_type": "code",
   "execution_count": 4,
   "metadata": {
    "collapsed": false,
    "scrolled": false
   },
   "outputs": [
    {
     "name": "stdout",
     "output_type": "stream",
     "text": [
      "\n",
      "STEP 4 - cleaning the databases ...\n",
      "\n",
      "\n",
      "dropping duplicates on the training set ... - 0.1 s\n",
      "\n",
      "> Number of training samples dropped : 0 out of 1460\n",
      "\n",
      "dropping sparse features and sparse samples ... - 0.03 s\n",
      "\n",
      "> Number of training samples dropped : 0 out of 1460\n",
      "> Number of features dropped : 2\n",
      "> Top 10 sparse features (%) : \n",
      "PoolQC          0.995205\n",
      "MiscFeature     0.963014\n",
      "Alley           0.937671\n",
      "Fence           0.807534\n",
      "FireplaceQu     0.472603\n",
      "LotFrontage     0.177397\n",
      "GarageFinish    0.055479\n",
      "GarageCond      0.055479\n",
      "GarageType      0.055479\n",
      "GarageQual      0.055479\n",
      "dtype: float64\n",
      "\n",
      "dropping constant features ..."
     ]
    },
    {
     "name": "stderr",
     "output_type": "stream",
     "text": [
      "/home/datageek/anaconda2/lib/python2.7/site-packages/mlbox/preprocessing/cleaner.py:73: UserWarning: List is empty. No specific features will be dropped\n",
      "  warnings.warn(\"List is empty. No specific features will be dropped\")\n"
     ]
    },
    {
     "name": "stdout",
     "output_type": "stream",
     "text": [
      " - 0.05 s\n",
      "\n",
      "> Number of features dropped : 0\n",
      "\n",
      "dropping drifting features ... - 2.2 s\n",
      "\n",
      "> Number of features dropped : 1\n",
      "> Top 10 drifting features (%) : \n",
      "\n",
      "Id              1.000000\n",
      "2ndFlrSF        0.043727\n",
      "FireplaceQu     0.042354\n",
      "Exterior1st     0.040058\n",
      "HeatingQC       0.037907\n",
      "GrLivArea       0.034105\n",
      "TotRmsAbvGrd    0.030939\n",
      "BsmtFinType1    0.030811\n",
      "FullBath        0.029647\n",
      "MSSubClass      0.028765\n",
      "dtype: float64\n",
      "\n",
      "dropping highly-correlated features ... - 0.01 s\n",
      "\n",
      "> Number of features dropped : 0\n",
      "> Top 10 correlated features (%) : \n",
      "\n",
      "GarageArea    GarageCars      0.882475\n",
      "GarageYrBlt   YearBuilt       0.825667\n",
      "GrLivArea     TotRmsAbvGrd    0.825489\n",
      "1stFlrSF      TotalBsmtSF     0.819530\n",
      "2ndFlrSF      GrLivArea       0.687501\n",
      "BedroomAbvGr  TotRmsAbvGrd    0.676620\n",
      "BsmtFinSF1    BsmtFullBath    0.649212\n",
      "GarageYrBlt   YearRemodAdd    0.642277\n",
      "FullBath      GrLivArea       0.630012\n",
      "2ndFlrSF      TotRmsAbvGrd    0.616423\n",
      "dtype: float64\n",
      "\n"
     ]
    }
   ],
   "source": [
    "cl = Cleaner()\n",
    "df = cl.run(df)"
   ]
  },
  {
   "cell_type": "markdown",
   "metadata": {},
   "source": [
    "# tuning"
   ]
  },
  {
   "cell_type": "code",
   "execution_count": 5,
   "metadata": {
    "collapsed": false
   },
   "outputs": [
    {
     "name": "stderr",
     "output_type": "stream",
     "text": [
      "/home/datageek/anaconda2/lib/python2.7/site-packages/mlbox/optimisation/optimiser.py:149: UserWarning: Optimiser will save all your fitted models into directory 'save/joblib'. Please clear it regularly.\n",
      "  +str(self.to_path)+\"/joblib'. Please clear it regularly.\")\n"
     ]
    }
   ],
   "source": [
    "mape = make_scorer(lambda y_true, y_pred: 100*np.sum(np.abs(y_true-y_pred)/y_true)/len(y_true), greater_is_better=False, needs_proba=False)\n",
    "opt = Optimiser(scoring = mape, n_folds = 2)"
   ]
  },
  {
   "cell_type": "code",
   "execution_count": 6,
   "metadata": {
    "collapsed": false
   },
   "outputs": [
    {
     "name": "stdout",
     "output_type": "stream",
     "text": [
      "================================================== TESTING HYPER-PARAMETERS ... ==================================================\n",
      "\n",
      "> ENCODING: - missing values: {'numerical_strategy': 'mean', 'categorical_strategy': '<NULL>'}\n",
      "\n",
      "            - categorical features: {'verbose': False, 'strategy': 'label_encoding'}\n",
      "\n",
      "\n",
      "> MODELING: - estimation: {'num_leaves': 31, 'reg_alpha': 0, 'subsample_for_bin': 50000, 'colsample_bytree': 0.8, 'silent': True, 'max_depth': -1, 'learning_rate': 0.05, 'nthread': -1, 'min_child_weight': 5, 'strategy': 'LightGBM', 'n_estimators': 500, 'subsample': 0.9, 'reg_lambda': 0, 'subsample_freq': 1, 'max_bin': 255, 'objective': 'regression', 'min_split_gain': 0, 'seed': 0, 'min_child_samples': 10, 'boosting_type': 'gbdt'}\n",
      "\n"
     ]
    },
    {
     "name": "stderr",
     "output_type": "stream",
     "text": [
      "/home/datageek/anaconda2/lib/python2.7/site-packages/mlbox/prediction/predictor.py:62: UserWarning: No encoding strategy is specified. Default configuration is used.\n",
      "  warnings.warn(\"No encoding strategy is specified. Default configuration is used.\")\n",
      "/home/datageek/anaconda2/lib/python2.7/site-packages/mlbox/prediction/predictor.py:103: UserWarning: No modeling strategy is specified. Default configuration is used.\n",
      "  warnings.warn(\"No modeling strategy is specified. Default configuration is used.\")\n"
     ]
    },
    {
     "name": "stdout",
     "output_type": "stream",
     "text": [
      "\n",
      "MEAN SCORE : custom = -16.5824926312\n",
      "VARIANCE : 1.70686825527 (fold 1 = -18.2893608865, fold 2 = -14.875624376)\n",
      "CPU time: 6.51516485214 seconds\n",
      "\n"
     ]
    },
    {
     "data": {
      "text/plain": [
       "-16.582492631226117"
      ]
     },
     "execution_count": 6,
     "metadata": {},
     "output_type": "execute_result"
    }
   ],
   "source": [
    "opt.evaluate(df)"
   ]
  },
  {
   "cell_type": "code",
   "execution_count": 7,
   "metadata": {
    "collapsed": false,
    "scrolled": true
   },
   "outputs": [
    {
     "name": "stdout",
     "output_type": "stream",
     "text": [
      "\n",
      "STEP 5 - tuning/evaluating the pipeline ...\n",
      "\n",
      "\n",
      "================================================== TESTING HYPER-PARAMETERS ... ==================================================\n",
      "\n",
      "> ENCODING: - missing values: {'numerical_strategy': 0, 'categorical_strategy': 'NULL'}\n",
      "\n",
      "            - categorical features: {'verbose': False, 'strategy': 'random_projection'}\n",
      "\n",
      "\n",
      "> MODELING: - estimation: {'reg_alpha': 0, 'colsample_bytree': 0.7586477678149115, 'silent': True, 'colsample_bylevel': 1.0, 'scale_pos_weight': 1, 'learning_rate': 0.05, 'missing': None, 'max_delta_step': 0, 'nthread': -1, 'base_score': 0.5, 'strategy': 'XGBoost', 'n_estimators': 500, 'subsample': 0.9, 'reg_lambda': 1, 'seed': 0, 'min_child_weight': 1, 'objective': 'reg:linear', 'max_depth': 6, 'gamma': 0}\n",
      "\n",
      "\n",
      "MEAN SCORE : custom = -9.29341957883\n",
      "VARIANCE : 0.828148724454 (fold 1 = -10.1215683033, fold 2 = -8.46527085437)\n",
      "CPU time: 29.0859510899 seconds\n",
      "\n",
      "================================================== TESTING HYPER-PARAMETERS ... ==================================================\n",
      "\n",
      "> ENCODING: - missing values: {'numerical_strategy': 0, 'categorical_strategy': 'NULL'}\n",
      "\n",
      "            - categorical features: {'verbose': False, 'strategy': 'random_projection'}\n",
      "\n",
      "\n",
      "> MODELING: - estimation: {'reg_alpha': 0, 'colsample_bytree': 0.8441142361927985, 'silent': True, 'colsample_bylevel': 1.0, 'scale_pos_weight': 1, 'learning_rate': 0.05, 'missing': None, 'max_delta_step': 0, 'nthread': -1, 'base_score': 0.5, 'strategy': 'XGBoost', 'n_estimators': 500, 'subsample': 0.9, 'reg_lambda': 1, 'seed': 0, 'min_child_weight': 1, 'objective': 'reg:linear', 'max_depth': 6, 'gamma': 0}\n",
      "\n",
      "\n",
      "MEAN SCORE : custom = -9.24086000464\n",
      "VARIANCE : 0.770271972418 (fold 1 = -10.0111319771, fold 2 = -8.47058803222)\n",
      "CPU time: 26.175951004 seconds\n",
      "\n",
      "\n",
      "--------------------------------------------------  BEST HYPER-PARAMETERS  --------------------------------------------------\n",
      "\n",
      "{'modeling': {'estimation': {'colsample_bytree': 0.8441142361927985, 'strategy': 'XGBoost'}}, 'encoding': {'categorical_features': {'strategy': 'random_projection'}, 'missing_values': {'numerical_strategy': 0, 'categorical_strategy': 'NULL'}}}\n",
      "\n",
      "CPU time for STEP 5: 55.3 seconds\n",
      "\n"
     ]
    }
   ],
   "source": [
    "parameters = {\n",
    "    \n",
    "        \"encoding\" : {\n",
    "        \n",
    "            \"missing_values\" : {\"numerical_strategy\":{0}, \"categorical_strategy\":{\"NULL\"}},\n",
    "            \"categorical_features\" : {\"strategy\":{\"random_projection\"}}\n",
    "        \n",
    "    },\n",
    "    \n",
    "        \"modeling\" : {\n",
    "        \n",
    "            \"estimation\" : {\"strategy\":{\"LightGBM\", \"XGBoost\"}, \"colsample_bytree\" : (0.6,0.9)}\n",
    "        \n",
    "    }\n",
    "    \n",
    "        }\n",
    "\n",
    "best = opt.run(df, space=parameters, max_evals=2)"
   ]
  },
  {
   "cell_type": "code",
   "execution_count": 8,
   "metadata": {
    "collapsed": false,
    "scrolled": false
   },
   "outputs": [
    {
     "name": "stdout",
     "output_type": "stream",
     "text": [
      "\n",
      "STEP 6 - fitting the pipeline on training set ...\n",
      "\n",
      "\n",
      "CPU time for STEP 6: 4.28 seconds\n",
      "\n",
      "\n",
      "STEP 7 - predicting on test set ...\n",
      "\n",
      "\n",
      "predicting ... - 0.12 s\n",
      "\n",
      "> Overview on predictions : \n",
      "\n",
      "   SalePrice_predicted\n",
      "0        122673.250000\n",
      "1        154866.468750\n",
      "2        187935.687500\n",
      "3        195930.312500\n",
      "4        185636.390625\n",
      "5        174359.859375\n",
      "6        167582.921875\n",
      "7        170322.156250\n",
      "8        179987.312500\n",
      "9        128072.117188\n",
      "\n",
      "dumping predictions into directory : save ... - 0.0 s\n",
      "\n",
      "CPU time for STEP 7: 0.13 seconds\n",
      "\n"
     ]
    },
    {
     "name": "stderr",
     "output_type": "stream",
     "text": [
      "/home/datageek/anaconda2/lib/python2.7/site-packages/mlbox/prediction/predictor.py:366: UserWarning: Unable to get feature importances !\n",
      "  warnings.warn(\"Unable to get feature importances !\")\n"
     ]
    },
    {
     "data": {
      "text/plain": [
       "<mlbox.prediction.predictor.Predictor instance at 0x7f6b9e3b9518>"
      ]
     },
     "execution_count": 8,
     "metadata": {},
     "output_type": "execute_result"
    }
   ],
   "source": [
    "prd = Predictor()\n",
    "prd.run(df, best)"
   ]
  },
  {
   "cell_type": "code",
   "execution_count": null,
   "metadata": {
    "collapsed": true
   },
   "outputs": [],
   "source": []
  }
 ],
 "metadata": {
  "kernelspec": {
   "display_name": "Python 2",
   "language": "python",
   "name": "python2"
  },
  "language_info": {
   "codemirror_mode": {
    "name": "ipython",
    "version": 2
   },
   "file_extension": ".py",
   "mimetype": "text/x-python",
   "name": "python",
   "nbconvert_exporter": "python",
   "pygments_lexer": "ipython2",
   "version": "2.7.11"
  }
 },
 "nbformat": 4,
 "nbformat_minor": 1
}
